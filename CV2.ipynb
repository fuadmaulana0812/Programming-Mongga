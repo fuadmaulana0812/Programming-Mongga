{
 "cells": [
  {
   "cell_type": "code",
   "execution_count": 2,
   "metadata": {},
   "outputs": [],
   "source": [
    "import pymongo\n",
    "import cv2\n",
    "import numpy as np"
   ]
  },
  {
   "cell_type": "code",
   "execution_count": 3,
   "metadata": {},
   "outputs": [
    {
     "data": {
      "text/plain": [
       "-1"
      ]
     },
     "execution_count": 3,
     "metadata": {},
     "output_type": "execute_result"
    }
   ],
   "source": [
    "img = cv2.imread(\"index.jpg\")\n",
    "cv2.imshow(\"Gambar 1\",img)\n",
    "cv2.waitKey(0)"
   ]
  },
  {
   "cell_type": "code",
   "execution_count": 2,
   "metadata": {},
   "outputs": [],
   "source": [
    "cap=cv2.VideoCapture(\"Naruchiha_SAO_01_mHD.mp4\")\n",
    "cap.set(3,640)\n",
    "cap.set(4,480)\n",
    "cap.set(10,1000)\n",
    "cv2.waitKey(1)\n",
    "while True:\n",
    "    success,img=cap.read()\n",
    "    cv2.imshow(\"Video\",img)\n",
    "    if cv2.waitKey(1) & 0xFF==ord(\"q\"):\n",
    "        break"
   ]
  },
  {
   "cell_type": "code",
   "execution_count": 7,
   "metadata": {},
   "outputs": [
    {
     "data": {
      "text/plain": [
       "-1"
      ]
     },
     "execution_count": 7,
     "metadata": {},
     "output_type": "execute_result"
    }
   ],
   "source": [
    "imgresized=cv2.resize(img,(800,600))\n",
    "cv2.imshow(\"Gambar 1\",img)\n",
    "cv2.imshow(\"Gambar 2\",imgresized)\n",
    "cv2.waitKey(0)"
   ]
  },
  {
   "cell_type": "code",
   "execution_count": 10,
   "metadata": {},
   "outputs": [
    {
     "data": {
      "text/plain": [
       "-1"
      ]
     },
     "execution_count": 10,
     "metadata": {},
     "output_type": "execute_result"
    }
   ],
   "source": [
    "imggray=cv2.cvtColor(img,cv2.COLOR_BGR2GRAY)\n",
    "cv2.imshow(\"gray\",imggray)\n",
    "cv2.waitKey(0)"
   ]
  },
  {
   "cell_type": "code",
   "execution_count": 30,
   "metadata": {},
   "outputs": [
    {
     "data": {
      "text/plain": [
       "-1"
      ]
     },
     "execution_count": 30,
     "metadata": {},
     "output_type": "execute_result"
    }
   ],
   "source": [
    "imgblur=cv2.GaussianBlur(img,(111,111),2)\n",
    "cv2.imshow(\"blur\",imgblur)\n",
    "cv2.waitKey(0)"
   ]
  },
  {
   "cell_type": "code",
   "execution_count": 36,
   "metadata": {},
   "outputs": [
    {
     "data": {
      "text/plain": [
       "-1"
      ]
     },
     "execution_count": 36,
     "metadata": {},
     "output_type": "execute_result"
    }
   ],
   "source": [
    "imgcanny=cv2.Canny(img,150,200)\n",
    "#imgcanny2=cv2.Canny(img,200,200)\n",
    "#imgcanny3=cv2.Canny(img,300,200)\n",
    "#imgcanny4=cv2.Canny(img,150,250)\n",
    "#imgcanny5=cv2.Canny(img,150,300)\n",
    "kernel=np.ones((5,5),np.uint8)\n",
    "imgDilation=cv2.dilate(imgcanny,kernel,iterations=1)\n",
    "cv2.imshow(\"imgDilation\",imgDilation)\n",
    "cv2.imshow(\"imgcanny\",imgcanny)\n",
    "#cv2.imshow(\"imgcanny2\",imgcanny2)\n",
    "#cv2.imshow(\"imgcanny3\",imgcanny3)\n",
    "#cv2.imshow(\"imgcanny4\",imgcanny4)\n",
    "#cv2.imshow(\"imgcanny5\",imgcanny5)\n",
    "cv2.waitKey(0)"
   ]
  },
  {
   "cell_type": "code",
   "execution_count": null,
   "metadata": {},
   "outputs": [],
   "source": [
    "img=np.zeros((512,512),np.uint8)+0.142414\n",
    "img2=np.zeros((512,512,3),np.uint8)\n",
    "img3=np.zeros((256,512))\n",
    "cv2.imshow(\"img\",img)\n",
    "#cv2.imshow(\"img2\",img2)\n",
    "cv2.imshow(\"img3\",img3)\n",
    "#cv2.waitKey(0)\n",
    "img2[:256,:256]=255,0,0\n",
    "img2[256:,256:]=0,255,0\n",
    "img2[:256,256:]=0,0,255\n",
    "img2[256:,:256]=150,10,200\n",
    "cv2.imshow(\"img2\",img2)\n",
    "cv2.waitKey(0)"
   ]
  },
  {
   "cell_type": "code",
   "execution_count": null,
   "metadata": {},
   "outputs": [],
   "source": []
  }
 ],
 "metadata": {
  "kernelspec": {
   "display_name": "Python 3",
   "language": "python",
   "name": "python3"
  },
  "language_info": {
   "codemirror_mode": {
    "name": "ipython",
    "version": 3
   },
   "file_extension": ".py",
   "mimetype": "text/x-python",
   "name": "python",
   "nbconvert_exporter": "python",
   "pygments_lexer": "ipython3",
   "version": "3.7.6"
  }
 },
 "nbformat": 4,
 "nbformat_minor": 4
}
